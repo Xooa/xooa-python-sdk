{
 "cells": [
  {
   "cell_type": "code",
   "execution_count": 3,
   "metadata": {},
   "outputs": [
    {
     "name": "stderr",
     "output_type": "stream",
     "text": [
      "2018-10-30 14:13:27,955  XooaLogger   INFO  Validating API Token...\n"
     ]
    },
    {
     "data": {
      "text/plain": [
       "'API Token has been validated.'"
      ]
     },
     "execution_count": 3,
     "metadata": {},
     "output_type": "execute_result"
    }
   ],
   "source": [
    "import sys\n",
    "sys.path.append('..')\n",
    "# Import XooaClient Library\n",
    "from xooa_api.api_client import XooaClient\n",
    "# Create an instance of XooaClient\n",
    "foo = XooaClient()\n",
    "# Set API Token\n",
    "foo.set_api_token('<API_TOKEN>')\n",
    "#Validate Token\n",
    "foo.validate()"
   ]
  },
  {
   "cell_type": "code",
   "execution_count": 2,
   "metadata": {},
   "outputs": [
    {
     "name": "stderr",
     "output_type": "stream",
     "text": [
      "2018-10-30 10:44:29,916  XooaLogger   INFO  Invoke API has been called\n",
      "2018-10-30 10:44:29,919  XooaLogger   INFO  Sending request...\n"
     ]
    },
    {
     "name": "stdout",
     "output_type": "stream",
     "text": [
      "Error\n"
     ]
    },
    {
     "ename": "XooaRequestTimeoutException",
     "evalue": "{'result_url': '/abhilash-xooa7c4uis2hun/results/03d47854-aad1-4716-b8c1-64f49d87b803', 'result_id': '03d47854-aad1-4716-b8c1-64f49d87b803'}",
     "traceback": [
      "\u001b[0;31m---------------------------------------------------------------------------\u001b[0m",
      "\u001b[0;31mXooaRequestTimeoutException\u001b[0m               Traceback (most recent call last)",
      "\u001b[0;32m<ipython-input-2-3a1240123981>\u001b[0m in \u001b[0;36m<module>\u001b[0;34m\u001b[0m\n\u001b[1;32m      4\u001b[0m \u001b[0mfcn\u001b[0m \u001b[0;34m=\u001b[0m \u001b[0;34m'set'\u001b[0m\u001b[0;34m\u001b[0m\u001b[0;34m\u001b[0m\u001b[0m\n\u001b[1;32m      5\u001b[0m \u001b[0margs\u001b[0m \u001b[0;34m=\u001b[0m \u001b[0;34m{\u001b[0m\u001b[0;34m\"args\"\u001b[0m\u001b[0;34m:\u001b[0m\u001b[0;34m[\u001b[0m\u001b[0;34m\"args1\"\u001b[0m\u001b[0;34m,\u001b[0m\u001b[0;34m\"args2\"\u001b[0m\u001b[0;34m]\u001b[0m\u001b[0;34m}\u001b[0m\u001b[0;34m\u001b[0m\u001b[0;34m\u001b[0m\u001b[0m\n\u001b[0;32m----> 6\u001b[0;31m \u001b[0mapp_invoke\u001b[0m \u001b[0;34m=\u001b[0m \u001b[0mfoo\u001b[0m\u001b[0;34m.\u001b[0m\u001b[0minvoke\u001b[0m\u001b[0;34m(\u001b[0m\u001b[0mfcn\u001b[0m\u001b[0;34m,\u001b[0m \u001b[0mdata\u001b[0m\u001b[0;34m=\u001b[0m\u001b[0margs\u001b[0m\u001b[0;34m,\u001b[0m \u001b[0mtimeout\u001b[0m\u001b[0;34m=\u001b[0m\u001b[0;36m5000\u001b[0m\u001b[0;34m)\u001b[0m\u001b[0;34m\u001b[0m\u001b[0;34m\u001b[0m\u001b[0m\n\u001b[0m\u001b[1;32m      7\u001b[0m \u001b[0mprint\u001b[0m\u001b[0;34m(\u001b[0m\u001b[0mapp_invoke\u001b[0m\u001b[0;34m)\u001b[0m\u001b[0;34m\u001b[0m\u001b[0;34m\u001b[0m\u001b[0m\n",
      "\u001b[0;32m~/.local/lib/python3.6/site-packages/xooa_api/api_client.py\u001b[0m in \u001b[0;36minvoke\u001b[0;34m(self, fcn, **kwargs)\u001b[0m\n\u001b[1;32m     69\u001b[0m         \u001b[0;32mif\u001b[0m \u001b[0mself\u001b[0m\u001b[0;34m.\u001b[0m\u001b[0mis_valid\u001b[0m\u001b[0;34m:\u001b[0m\u001b[0;34m\u001b[0m\u001b[0;34m\u001b[0m\u001b[0m\n\u001b[1;32m     70\u001b[0m             \u001b[0minvoke_api\u001b[0m \u001b[0;34m=\u001b[0m \u001b[0mInvokeApi\u001b[0m\u001b[0;34m(\u001b[0m\u001b[0;34m)\u001b[0m\u001b[0;34m\u001b[0m\u001b[0;34m\u001b[0m\u001b[0m\n\u001b[0;32m---> 71\u001b[0;31m             \u001b[0mr\u001b[0m \u001b[0;34m=\u001b[0m \u001b[0minvoke_api\u001b[0m\u001b[0;34m.\u001b[0m\u001b[0minvoke\u001b[0m\u001b[0;34m(\u001b[0m\u001b[0mself\u001b[0m\u001b[0;34m,\u001b[0m \u001b[0mfcn\u001b[0m\u001b[0;34m,\u001b[0m \u001b[0;34m**\u001b[0m\u001b[0mkwargs\u001b[0m\u001b[0;34m)\u001b[0m\u001b[0;34m\u001b[0m\u001b[0;34m\u001b[0m\u001b[0m\n\u001b[0m\u001b[1;32m     72\u001b[0m             \u001b[0;32mreturn\u001b[0m \u001b[0mr\u001b[0m\u001b[0;34m\u001b[0m\u001b[0;34m\u001b[0m\u001b[0m\n\u001b[1;32m     73\u001b[0m         \u001b[0;32melse\u001b[0m\u001b[0;34m:\u001b[0m\u001b[0;34m\u001b[0m\u001b[0;34m\u001b[0m\u001b[0m\n",
      "\u001b[0;32m~/.local/lib/python3.6/site-packages/xooa_api/invoke.py\u001b[0m in \u001b[0;36minvoke\u001b[0;34m(self, client_obj, fcn, **kwargs)\u001b[0m\n\u001b[1;32m     79\u001b[0m                         \u001b[0mresult_id\u001b[0m \u001b[0;34m=\u001b[0m \u001b[0mresponse_object\u001b[0m\u001b[0;34m[\u001b[0m\u001b[0;34m'resultId'\u001b[0m\u001b[0;34m]\u001b[0m\u001b[0;34m\u001b[0m\u001b[0;34m\u001b[0m\u001b[0m\n\u001b[1;32m     80\u001b[0m                         \u001b[0mresult_url\u001b[0m \u001b[0;34m=\u001b[0m \u001b[0mresponse_object\u001b[0m\u001b[0;34m[\u001b[0m\u001b[0;34m'resultURL'\u001b[0m\u001b[0;34m]\u001b[0m\u001b[0;34m\u001b[0m\u001b[0;34m\u001b[0m\u001b[0m\n\u001b[0;32m---> 81\u001b[0;31m                         \u001b[0;32mraise\u001b[0m \u001b[0mXooaRequestTimeoutException\u001b[0m\u001b[0;34m(\u001b[0m\u001b[0mresult_id\u001b[0m\u001b[0;34m,\u001b[0m \u001b[0mresult_url\u001b[0m\u001b[0;34m)\u001b[0m\u001b[0;34m\u001b[0m\u001b[0;34m\u001b[0m\u001b[0m\n\u001b[0m\u001b[1;32m     82\u001b[0m                     \u001b[0;32melse\u001b[0m\u001b[0;34m:\u001b[0m\u001b[0;34m\u001b[0m\u001b[0;34m\u001b[0m\u001b[0m\n\u001b[1;32m     83\u001b[0m                         \u001b[0mrequest\u001b[0m\u001b[0;34m.\u001b[0m\u001b[0mraise_for_status\u001b[0m\u001b[0;34m(\u001b[0m\u001b[0;34m)\u001b[0m\u001b[0;34m\u001b[0m\u001b[0;34m\u001b[0m\u001b[0m\n",
      "\u001b[0;31mXooaRequestTimeoutException\u001b[0m: {'result_url': '/abhilash-xooa7c4uis2hun/results/03d47854-aad1-4716-b8c1-64f49d87b803', 'result_id': '03d47854-aad1-4716-b8c1-64f49d87b803'}"
     ],
     "output_type": "error"
    }
   ],
   "source": [
    "# To invoke chaincode call invoke method\n",
    "# function name is required argument and data is a required keyword argument\n",
    "# timeout is an optional keyword argument\n",
    "fcn = 'set'\n",
    "args = {\"args\":[\"args1\",\"args2\"]}\n",
    "app_invoke = foo.invoke(fcn, data=args, timeout=5000)\n",
    "print(app_invoke)"
   ]
  },
  {
   "cell_type": "code",
   "execution_count": null,
   "metadata": {},
   "outputs": [
    {
     "name": "stderr",
     "output_type": "stream",
     "text": [
      "2018-10-30 10:44:42,083  XooaLogger   INFO  Invoke API has been called\n",
      "2018-10-30 10:44:42,088  XooaLogger   INFO  Sending request...\n"
     ]
    },
    {
     "name": "stdout",
     "output_type": "stream",
     "text": [
      "Error\n"
     ]
    },
    {
     "ename": "XooaPendingException",
     "evalue": "{'result_url': '/abhilash-xooa7c4uis2hun/results/1d8511c0-7db0-4e29-980d-6f558b550083', 'result_id': '1d8511c0-7db0-4e29-980d-6f558b550083'}",
     "traceback": [
      "\u001b[0;31m---------------------------------------------------------------------------\u001b[0m",
      "\u001b[0;31mXooaPendingException\u001b[0m                      Traceback (most recent call last)",
      "\u001b[0;32m<ipython-input-3-a5b088465a6d>\u001b[0m in \u001b[0;36m<module>\u001b[0;34m\u001b[0m\n\u001b[1;32m      3\u001b[0m \u001b[0mfcn\u001b[0m \u001b[0;34m=\u001b[0m \u001b[0;34m'set'\u001b[0m\u001b[0;34m\u001b[0m\u001b[0;34m\u001b[0m\u001b[0m\n\u001b[1;32m      4\u001b[0m \u001b[0margs\u001b[0m \u001b[0;34m=\u001b[0m \u001b[0;34m{\u001b[0m\u001b[0;34m\"args\"\u001b[0m\u001b[0;34m:\u001b[0m\u001b[0;34m[\u001b[0m\u001b[0;34m\"args1\"\u001b[0m\u001b[0;34m,\u001b[0m\u001b[0;34m\"args2\"\u001b[0m\u001b[0;34m]\u001b[0m\u001b[0;34m}\u001b[0m\u001b[0;34m\u001b[0m\u001b[0;34m\u001b[0m\u001b[0m\n\u001b[0;32m----> 5\u001b[0;31m \u001b[0mapp_invoke_async\u001b[0m \u001b[0;34m=\u001b[0m \u001b[0mfoo\u001b[0m\u001b[0;34m.\u001b[0m\u001b[0minvoke_async\u001b[0m\u001b[0;34m(\u001b[0m\u001b[0mfcn\u001b[0m\u001b[0;34m,\u001b[0m \u001b[0mdata\u001b[0m\u001b[0;34m=\u001b[0m\u001b[0margs\u001b[0m\u001b[0;34m)\u001b[0m\u001b[0;34m\u001b[0m\u001b[0;34m\u001b[0m\u001b[0m\n\u001b[0m\u001b[1;32m      6\u001b[0m \u001b[0mprint\u001b[0m\u001b[0;34m(\u001b[0m\u001b[0mapp_invoke_async\u001b[0m\u001b[0;34m)\u001b[0m\u001b[0;34m\u001b[0m\u001b[0;34m\u001b[0m\u001b[0m\n",
      "\u001b[0;32m~/.local/lib/python3.6/site-packages/xooa_api/api_client.py\u001b[0m in \u001b[0;36minvoke_async\u001b[0;34m(self, fcn, **kwargs)\u001b[0m\n\u001b[1;32m     77\u001b[0m         \u001b[0;32mif\u001b[0m \u001b[0mself\u001b[0m\u001b[0;34m.\u001b[0m\u001b[0mis_valid\u001b[0m\u001b[0;34m:\u001b[0m\u001b[0;34m\u001b[0m\u001b[0;34m\u001b[0m\u001b[0m\n\u001b[1;32m     78\u001b[0m             \u001b[0minvoke_api\u001b[0m \u001b[0;34m=\u001b[0m \u001b[0mInvokeApi\u001b[0m\u001b[0;34m(\u001b[0m\u001b[0;34m)\u001b[0m\u001b[0;34m\u001b[0m\u001b[0;34m\u001b[0m\u001b[0m\n\u001b[0;32m---> 79\u001b[0;31m             \u001b[0mr\u001b[0m \u001b[0;34m=\u001b[0m \u001b[0minvoke_api\u001b[0m\u001b[0;34m.\u001b[0m\u001b[0minvoke\u001b[0m\u001b[0;34m(\u001b[0m\u001b[0mself\u001b[0m\u001b[0;34m,\u001b[0m \u001b[0mfcn\u001b[0m\u001b[0;34m,\u001b[0m \u001b[0masync\u001b[0m\u001b[0;34m=\u001b[0m\u001b[0;34m'true'\u001b[0m\u001b[0;34m,\u001b[0m \u001b[0;34m**\u001b[0m\u001b[0mkwargs\u001b[0m\u001b[0;34m)\u001b[0m\u001b[0;34m\u001b[0m\u001b[0;34m\u001b[0m\u001b[0m\n\u001b[0m\u001b[1;32m     80\u001b[0m             \u001b[0;32mreturn\u001b[0m \u001b[0mr\u001b[0m\u001b[0;34m\u001b[0m\u001b[0;34m\u001b[0m\u001b[0m\n\u001b[1;32m     81\u001b[0m         \u001b[0;32melse\u001b[0m\u001b[0;34m:\u001b[0m\u001b[0;34m\u001b[0m\u001b[0;34m\u001b[0m\u001b[0m\n",
      "\u001b[0;32m~/.local/lib/python3.6/site-packages/xooa_api/invoke.py\u001b[0m in \u001b[0;36minvoke\u001b[0;34m(self, client_obj, fcn, **kwargs)\u001b[0m\n\u001b[1;32m     68\u001b[0m                         \u001b[0mresult_id\u001b[0m \u001b[0;34m=\u001b[0m \u001b[0mresponse_object\u001b[0m\u001b[0;34m[\u001b[0m\u001b[0;34m'resultId'\u001b[0m\u001b[0;34m]\u001b[0m\u001b[0;34m\u001b[0m\u001b[0;34m\u001b[0m\u001b[0m\n\u001b[1;32m     69\u001b[0m                         \u001b[0mresult_url\u001b[0m \u001b[0;34m=\u001b[0m \u001b[0mresponse_object\u001b[0m\u001b[0;34m[\u001b[0m\u001b[0;34m'resultURL'\u001b[0m\u001b[0;34m]\u001b[0m\u001b[0;34m\u001b[0m\u001b[0;34m\u001b[0m\u001b[0m\n\u001b[0;32m---> 70\u001b[0;31m                         \u001b[0;32mraise\u001b[0m \u001b[0mXooaPendingException\u001b[0m\u001b[0;34m(\u001b[0m\u001b[0mresult_id\u001b[0m\u001b[0;34m,\u001b[0m \u001b[0mresult_url\u001b[0m\u001b[0;34m)\u001b[0m\u001b[0;34m\u001b[0m\u001b[0;34m\u001b[0m\u001b[0m\n\u001b[0m\u001b[1;32m     71\u001b[0m                     \u001b[0;32melse\u001b[0m\u001b[0;34m:\u001b[0m\u001b[0;34m\u001b[0m\u001b[0;34m\u001b[0m\u001b[0m\n\u001b[1;32m     72\u001b[0m                         \u001b[0mrequest\u001b[0m\u001b[0;34m.\u001b[0m\u001b[0mraise_for_status\u001b[0m\u001b[0;34m(\u001b[0m\u001b[0;34m)\u001b[0m\u001b[0;34m\u001b[0m\u001b[0;34m\u001b[0m\u001b[0m\n",
      "\u001b[0;31mXooaPendingException\u001b[0m: {'result_url': '/abhilash-xooa7c4uis2hun/results/1d8511c0-7db0-4e29-980d-6f558b550083', 'result_id': '1d8511c0-7db0-4e29-980d-6f558b550083'}"
     ],
     "output_type": "error"
    }
   ],
   "source": [
    "# To invoke chaincode asynchronously, call invoke_async method\n",
    "# function name is required argument and data is a required keyword  that needs to be a key value pair\n",
    "fcn = 'set'\n",
    "args = {\"args\":[\"args1\",\"args2\"]}\n",
    "app_invoke_async = foo.invoke_async(fcn, data=args)\n",
    "print(app_invoke_async)"
   ]
  },
  {
   "cell_type": "code",
   "execution_count": 5,
   "metadata": {},
   "outputs": [
    {
     "name": "stderr",
     "output_type": "stream",
     "text": [
      "2018-10-30 14:13:49,974  XooaLogger   INFO  Query API has been called\n",
      "2018-10-30 14:13:49,978  XooaLogger   INFO  Sending request...\n"
     ]
    },
    {
     "name": "stdout",
     "output_type": "stream",
     "text": [
      "args2\n"
     ]
    }
   ],
   "source": [
    "# To query chaincode call query method\n",
    "# function name is required argument and args is a required keyword argument\n",
    "# timeout is an optional keyword argument\n",
    "fcn = 'set'\n",
    "args = [\"args1\",\"args2\"]\n",
    "app_query = foo.query(fcn, args = args, timeout=5000)\n",
    "print(app_query['payload'])"
   ]
  },
  {
   "cell_type": "code",
   "execution_count": null,
   "metadata": {},
   "outputs": [],
   "source": [
    "# To query chaincode asynchronously call query method\n",
    "# function name is required argument and args is a required keyword argument\n",
    "fcn = 'set'\n",
    "args = [\"args1\",\"args2\"]\n",
    "app_query_async = foo.query_async(fcn, args = args)\n",
    "print(app_query_async)"
   ]
  },
  {
   "cell_type": "code",
   "execution_count": null,
   "metadata": {},
   "outputs": [],
   "source": [
    "# To get blockchain data call get_block_by_number method\n",
    "# block_number is required argument\n",
    "# timeout is an optional keyword argument\n",
    "block_number = 2\n",
    "app_block_by_number = foo.get_block_by_number(block_number, timeout=3000)\n",
    "print(app_block_by_number)"
   ]
  },
  {
   "cell_type": "code",
   "execution_count": null,
   "metadata": {},
   "outputs": [],
   "source": [
    "# To get blockchain data asynchronously call get_block_by_number_async method\n",
    "# block_number is required argument\n",
    "block_number = 2\n",
    "app_block_by_number_async = foo.get_block_by_number_async(block_number)\n",
    "print(app_block_by_number_async)"
   ]
  },
  {
   "cell_type": "code",
   "execution_count": null,
   "metadata": {},
   "outputs": [],
   "source": [
    "# To get blockchain height call get_current_block method\n",
    "# timeout is an optional keyword argument\n",
    "app_current_block = foo.get_current_block(timeout=3000)\n",
    "print(app_current_block)"
   ]
  },
  {
   "cell_type": "code",
   "execution_count": null,
   "metadata": {},
   "outputs": [],
   "source": [
    "# To get blockchain height asynchronously call get_current_block_async method\n",
    "app_current_block_async = foo.get_current_block_async()\n",
    "print(app_current_block_async)"
   ]
  },
  {
   "cell_type": "code",
   "execution_count": null,
   "metadata": {},
   "outputs": [],
   "source": [
    "# To get identity information call current_identity method\n",
    "app_current_identity = foo.current_identity()\n",
    "print(app_current_identity)"
   ]
  },
  {
   "cell_type": "code",
   "execution_count": null,
   "metadata": {},
   "outputs": [],
   "source": [
    "# To get all the identities information call get_identities method\n",
    "app_get_identities = foo.get_identities()\n",
    "print(app_get_identities)"
   ]
  },
  {
   "cell_type": "code",
   "execution_count": null,
   "metadata": {},
   "outputs": [],
   "source": [
    "# To enroll an identity call enroll_identity method\n",
    "# data is required keyword argument\n",
    "\n",
    "enroll_identity_data = {\n",
    "    \"IdentityName\": \"string\",\n",
    "    \"Access\": \"r\",\n",
    "    \"Attrs\": [\n",
    "        {\n",
    "            \"name\": \"string\",\n",
    "            \"ecert\": True,\n",
    "            \"value\": \"string\"\n",
    "        }\n",
    "    ],\n",
    "    \"canManageIdentities\": True\n",
    "}\n",
    "app_enroll_identity = foo.enroll_identity(data=enroll_identity_data)\n",
    "print(app_enroll_identity)"
   ]
  },
  {
   "cell_type": "code",
   "execution_count": null,
   "metadata": {},
   "outputs": [],
   "source": [
    "# To enroll an identity asynchronously call enroll_identity method\n",
    "# data is required keyword argument\n",
    "\n",
    "enroll_identity_data = {\n",
    "    \"IdentityName\": \"string\",\n",
    "    \"Access\": \"r\",\n",
    "    \"Attrs\": [\n",
    "        {\n",
    "            \"name\": \"string\",\n",
    "            \"ecert\": True,\n",
    "            \"value\": \"string\"\n",
    "        }\n",
    "    ],\n",
    "    \"canManageIdentities\": True\n",
    "}\n",
    "app_enroll_identity_async = foo.enroll_identity_async(data=enroll_identity_data)\n",
    "print(app_enroll_identity_async)"
   ]
  },
  {
   "cell_type": "code",
   "execution_count": null,
   "metadata": {},
   "outputs": [],
   "source": [
    "# To regenerate identity api token call regenerate_identity_api_token method\n",
    "# identity is required argument\n",
    "\n",
    "identity = '<IDENTITY>'\n",
    "app_regenerate_identity_api_token = foo.regenerate_identity_api_token(identity)\n",
    "print(app_regenerate_identity_api_token)"
   ]
  },
  {
   "cell_type": "code",
   "execution_count": null,
   "metadata": {},
   "outputs": [],
   "source": [
    "# To delete identity delete_identity method\n",
    "# identity is required argument\n",
    "\n",
    "identity = '<IDENTITY>'\n",
    "app_delete_identity = foo.delete_identity(identity)\n",
    "print(app_delete_identity)"
   ]
  },
  {
   "cell_type": "code",
   "execution_count": null,
   "metadata": {},
   "outputs": [],
   "source": [
    "# To delete identity asynchronously delete_identity_async method\n",
    "# identity is required argument\n",
    "\n",
    "identity = '<IDENTITY>'\n",
    "app_delete_identity_async = foo.delete_identity_async(identity)\n",
    "print(app_delete_identity_async)"
   ]
  },
  {
   "cell_type": "code",
   "execution_count": null,
   "metadata": {},
   "outputs": [],
   "source": [
    "# To get identity call get_identity method\n",
    "# identity is required argument\n",
    "\n",
    "identity = '<IDENTITY>'\n",
    "app_get_identity = foo.get_identity(identity)\n",
    "print(app_get_identity)"
   ]
  },
  {
   "cell_type": "code",
   "execution_count": null,
   "metadata": {},
   "outputs": [],
   "source": [
    "# To check whether the transaction has been completed or not, call get_result method\n",
    "# result_id is required argument\n",
    "\n",
    "result_id = '<RESULT_ID>'\n",
    "app_get_result = foo.get_result(result_id)\n",
    "print(app_get_result)"
   ]
  },
  {
   "cell_type": "code",
   "execution_count": null,
   "metadata": {},
   "outputs": [],
   "source": [
    "# To subscribe to events call subscribe_all_events method\n",
    "# callback_on_event is required argument. It is an event handler.\n",
    "\n",
    "callback_on_event = 'callback_on_event'\n",
    "app_subscribe_events = foo.subscribe_all_events(callback_on_event)\n",
    "print(app_subscribe_events)"
   ]
  },
  {
   "cell_type": "code",
   "execution_count": null,
   "metadata": {},
   "outputs": [],
   "source": []
  }
 ],
 "metadata": {
  "kernelspec": {
   "display_name": "Python 3",
   "language": "python",
   "name": "python3"
  },
  "language_info": {
   "codemirror_mode": {
    "name": "ipython",
    "version": 3
   },
   "file_extension": ".py",
   "mimetype": "text/x-python",
   "name": "python",
   "nbconvert_exporter": "python",
   "pygments_lexer": "ipython3",
   "version": "3.6.6+"
  }
 },
 "nbformat": 4,
 "nbformat_minor": 2
}
